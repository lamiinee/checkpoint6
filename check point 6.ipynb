{
 "cells": [
  {
   "cell_type": "code",
   "execution_count": null,
   "id": "47529eb0",
   "metadata": {},
   "outputs": [],
   "source": [
    "#exo1\n",
    "import numpy as np\n",
    "exo1=np.array([1,2,3,4,5])\n",
    "#nous avons notre tableau ci dessus que nous voulons transformer en liste\n",
    "#pour se faire, nous qllons utiliser la fonction tolist\n",
    "#nous allons créer une autre variable pour appliquer notre fonction\n",
    "exo1_= exo1.tolist()\n",
    "print(exo1_)"
   ]
  },
  {
   "cell_type": "code",
   "execution_count": null,
   "id": "713f1333",
   "metadata": {},
   "outputs": [],
   "source": [
    "#exo2\n",
    "import numpy as np\n",
    "exo2= np.array([[1,2,3,4,5], [6,7,8,9,10]])\n",
    "#pour pouvoir additionner en diagonale, il nous faut un tableau de deux dimensions ou plus\n",
    "#utilisons la fonction trace pour pouvoir faire cela\n",
    "#créons une autre variable pour appliquer notre fonction trace\n",
    "exo2_= np.trace(exo2)\n",
    "print(exo2_)"
   ]
  },
  {
   "cell_type": "code",
   "execution_count": null,
   "id": "ba36d5b4",
   "metadata": {},
   "outputs": [],
   "source": [
    "#exo3\n",
    "import numpy as np\n",
    "#nous allons définir une fonction avec comme paramètre notre tableau et la valeur de x\n",
    "def exo3(tableau,x):\n",
    "    #nous allons utiliser une list comprehension pour voir les valeurs >x\n",
    "    a = [valeur for i in tableau for valeur in i if valeur > x]\n",
    "    print(a)\n",
    "exo3([[1,2],[3,5],[6,7]],2)\n",
    "\n"
   ]
  },
  {
   "cell_type": "code",
   "execution_count": null,
   "id": "af49d38e",
   "metadata": {},
   "outputs": [],
   "source": [
    "#exo4\n",
    "import numpy as np\n",
    "#définissons une fonction avec comme paramètre A et B\n",
    "def exo4(A,B):\n",
    "    #crééons une liste vide C\n",
    "    C=[]\n",
    "    #nous voulons séparer tous les items de A pour ensuite pouvoir additionner\n",
    "    for i in range(len(A)):\n",
    "        #créons des  listes ayant comme items i\n",
    "        a=A[i]\n",
    "        b=B[i]\n",
    "        c= []\n",
    "        #on a j tel que les listes ci dessus auront comme items maintenant j et j est dans rangelen(a)\n",
    "        for j in range(len(a)):\n",
    "            #nous allons maintenant ajouter les valeurs que l'on souhaite additionner dans c en utilisant append\n",
    "            c.append(a[j]+b[j])\n",
    "            # nous allons mettre cette valeur dans notre C de base\n",
    "            C.append(c)\n",
    "    print(C)\n",
    "exo4([[1, 2], [3, 4],[5,6]],[[7, 8], [9, 10],[11,12]])\n",
    "\n"
   ]
  },
  {
   "cell_type": "code",
   "execution_count": null,
   "id": "31807243",
   "metadata": {},
   "outputs": [],
   "source": [
    "#exo5\n",
    "import numpy as np \n",
    "# définir une fonction avec comme paramètre notre matrix \n",
    "def exo5(matrix):\n",
    "    #nous voulons soustraire la moyenne de notre matrix de notre paramètre\n",
    "    # axis=1 veut dire que la moyenne doit être calculé pour chaque ligne\n",
    "    #keepdims=True veut dire que le résultat obtenu aura la meme dimension que le input\n",
    "    print(matrix - np.mean(matrix, axis=1, keepdims=True))\n",
    "exo5(np.array([[1, 2, 3], [4, 5, 6], [7, 8, 9]]))"
   ]
  }
 ],
 "metadata": {
  "kernelspec": {
   "display_name": "Python 3 (ipykernel)",
   "language": "python",
   "name": "python3"
  },
  "language_info": {
   "codemirror_mode": {
    "name": "ipython",
    "version": 3
   },
   "file_extension": ".py",
   "mimetype": "text/x-python",
   "name": "python",
   "nbconvert_exporter": "python",
   "pygments_lexer": "ipython3",
   "version": "3.9.13"
  }
 },
 "nbformat": 4,
 "nbformat_minor": 5
}
